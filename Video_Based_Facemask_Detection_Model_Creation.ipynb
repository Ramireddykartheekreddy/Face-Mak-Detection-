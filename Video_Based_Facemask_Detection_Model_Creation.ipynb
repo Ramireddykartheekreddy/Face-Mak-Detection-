{
  "cells": [
    {
      "cell_type": "markdown",
      "metadata": {
        "id": "view-in-github",
        "colab_type": "text"
      },
      "source": [
        "<a href=\"https://colab.research.google.com/github/Ramireddykartheekreddy/Projects/blob/main/Video_Based_Facemask_Detection_Model_Creation.ipynb\" target=\"_parent\"><img src=\"https://colab.research.google.com/assets/colab-badge.svg\" alt=\"Open In Colab\"/></a>"
      ]
    },
    {
      "cell_type": "code",
      "execution_count": 28,
      "metadata": {
        "colab": {
          "base_uri": "https://localhost:8080/"
        },
        "id": "7f7AaKYj7BIw",
        "outputId": "7d939e41-55d3-43b1-d966-199972749c47"
      },
      "outputs": [
        {
          "output_type": "stream",
          "name": "stdout",
          "text": [
            "Looking in indexes: https://pypi.org/simple, https://us-python.pkg.dev/colab-wheels/public/simple/\n",
            "Requirement already satisfied: imutils in /usr/local/lib/python3.8/dist-packages (0.5.4)\n"
          ]
        }
      ],
      "source": [
        "pip install imutils"
      ]
    },
    {
      "cell_type": "code",
      "source": [
        "from google.colab import drive\n",
        "drive.mount('/content/drive')"
      ],
      "metadata": {
        "colab": {
          "base_uri": "https://localhost:8080/"
        },
        "id": "hGP04cIG7FaL",
        "outputId": "db5cd9dc-1a24-4719-e901-33a9909b3a1d"
      },
      "execution_count": 29,
      "outputs": [
        {
          "output_type": "stream",
          "name": "stdout",
          "text": [
            "Drive already mounted at /content/drive; to attempt to forcibly remount, call drive.mount(\"/content/drive\", force_remount=True).\n"
          ]
        }
      ]
    },
    {
      "cell_type": "code",
      "execution_count": 30,
      "metadata": {
        "colab": {
          "base_uri": "https://localhost:8080/"
        },
        "id": "-wKem2u27BIy",
        "outputId": "37d96350-95b4-411d-dedb-460e369c09ec"
      },
      "outputs": [
        {
          "output_type": "stream",
          "name": "stdout",
          "text": [
            "Looking in indexes: https://pypi.org/simple, https://us-python.pkg.dev/colab-wheels/public/simple/\n",
            "Requirement already satisfied: opencv-python in /usr/local/lib/python3.8/dist-packages (4.6.0.66)\n",
            "Requirement already satisfied: numpy>=1.17.3 in /usr/local/lib/python3.8/dist-packages (from opencv-python) (1.21.6)\n"
          ]
        }
      ],
      "source": [
        "pip install opencv-python"
      ]
    },
    {
      "cell_type": "code",
      "execution_count": 31,
      "metadata": {
        "id": "d29xsvBH7BIy"
      },
      "outputs": [],
      "source": [
        "from tensorflow.keras.preprocessing.image import ImageDataGenerator\n",
        "from tensorflow.keras.applications import MobileNetV2\n",
        "from tensorflow.keras.layers import AveragePooling2D\n",
        "from tensorflow.keras.layers import Dropout\n",
        "from tensorflow.keras.layers import Flatten\n",
        "from tensorflow.keras.layers import Dense\n",
        "from tensorflow.keras.layers import Input\n",
        "from tensorflow.keras.models import Model\n",
        "from tensorflow.keras.optimizers import Adam\n",
        "from tensorflow.keras.applications.mobilenet_v2 import preprocess_input\n",
        "from tensorflow.keras.preprocessing.image import img_to_array\n",
        "from tensorflow.keras.preprocessing.image import load_img\n",
        "from tensorflow.keras.utils import to_categorical\n",
        "from sklearn.preprocessing import LabelBinarizer\n",
        "from sklearn.model_selection import train_test_split\n",
        "from sklearn.metrics import classification_report\n",
        "from imutils import paths\n",
        "import matplotlib.pyplot as plt\n",
        "import numpy as np\n",
        "import os"
      ]
    },
    {
      "cell_type": "code",
      "execution_count": null,
      "metadata": {
        "id": "sKPhOTCI7BIz"
      },
      "outputs": [],
      "source": []
    },
    {
      "cell_type": "code",
      "execution_count": 32,
      "metadata": {
        "id": "FiOc3tXn7BIz"
      },
      "outputs": [],
      "source": [
        "# initialize the initial learning rate, number of epochs to train for,\n",
        "# and batch size\n",
        "INIT_LR = 1e-4\n",
        "EPOCHS = 20\n",
        "BS = 32"
      ]
    },
    {
      "cell_type": "code",
      "execution_count": 33,
      "metadata": {
        "id": "fLhxxq2K7BIz"
      },
      "outputs": [],
      "source": [
        "DIRECTORY = '/content/drive/MyDrive/mask_detection_video'\n",
        "CATEGORIES = [\"with_mask\", \"without_mask\"]"
      ]
    },
    {
      "cell_type": "code",
      "execution_count": 34,
      "metadata": {
        "colab": {
          "base_uri": "https://localhost:8080/"
        },
        "id": "9noXgOe07BIz",
        "outputId": "1b241fd3-fe76-46b9-f739-eb94ffd7fa29"
      },
      "outputs": [
        {
          "output_type": "stream",
          "name": "stdout",
          "text": [
            "[INFO] loading images...\n"
          ]
        },
        {
          "output_type": "stream",
          "name": "stderr",
          "text": [
            "/usr/local/lib/python3.8/dist-packages/PIL/Image.py:959: UserWarning: Palette images with Transparency expressed in bytes should be converted to RGBA images\n",
            "  warnings.warn(\n"
          ]
        }
      ],
      "source": [
        "# grab the list of images in our dataset directory, then initialize\n",
        "# the list of data (i.e., images) and class images\n",
        "print(\"[INFO] loading images...\")\n",
        "\n",
        "data = []\n",
        "labels = []\n",
        "\n",
        "for category in CATEGORIES:\n",
        "    path = os.path.join(DIRECTORY, category)\n",
        "    for img in os.listdir(path):\n",
        "        img_path = os.path.join(path, img)\n",
        "        image = load_img(img_path, target_size=(224, 224))\n",
        "        image = img_to_array(image)\n",
        "        image = preprocess_input(image)\n",
        "\n",
        "        data.append(image)\n",
        "        labels.append(category)"
      ]
    },
    {
      "cell_type": "code",
      "execution_count": 35,
      "metadata": {
        "id": "4T6YYzlD7BI0"
      },
      "outputs": [],
      "source": [
        "# perform encoding on the labels\n",
        "lb = LabelBinarizer()\n",
        "labels = lb.fit_transform(labels)\n",
        "labels = to_categorical(labels)\n",
        "\n",
        "data = np.array(data, dtype=\"float32\")\n",
        "labels = np.array(labels)\n",
        "\n",
        "(trainX, testX, trainY, testY) = train_test_split(data, labels,\n",
        "\ttest_size=0.20, stratify=labels, random_state=42)"
      ]
    },
    {
      "cell_type": "code",
      "execution_count": 36,
      "metadata": {
        "id": "_B6fkRwC7BI0"
      },
      "outputs": [],
      "source": [
        "# construct the training image generator for data augmentation\n",
        "aug = ImageDataGenerator(\n",
        "\trotation_range=20,\n",
        "\tzoom_range=0.15,\n",
        "\twidth_shift_range=0.2,\n",
        "\theight_shift_range=0.2,\n",
        "\tshear_range=0.15,\n",
        "\thorizontal_flip=True,\n",
        "\tfill_mode=\"nearest\")"
      ]
    },
    {
      "cell_type": "code",
      "execution_count": 38,
      "metadata": {
        "colab": {
          "base_uri": "https://localhost:8080/"
        },
        "id": "Fbi1xdEC7BI0",
        "outputId": "ee98ef06-8d71-4130-f5b1-3cfb0f9e5e2e"
      },
      "outputs": [
        {
          "output_type": "stream",
          "name": "stderr",
          "text": [
            "WARNING:tensorflow:`input_shape` is undefined or non-square, or `rows` is not in [96, 128, 160, 192, 224]. Weights for input shape (224, 224) will be loaded as the default.\n"
          ]
        }
      ],
      "source": [
        "# load the MobileNetV2 network, ensuring the head FC layer sets are\n",
        "# left off\n",
        "baseModel = MobileNetV2(weights=\"imagenet\", include_top=False,\n",
        "\tinput_tensor=Input(shape=(224, 224, 3)))"
      ]
    },
    {
      "cell_type": "code",
      "execution_count": 39,
      "metadata": {
        "id": "4_Gdxffb7BI0"
      },
      "outputs": [],
      "source": [
        "# construct the head of the model that will be placed on top of the\n",
        "# the base model\n",
        "headModel = baseModel.output\n",
        "headModel = AveragePooling2D(pool_size=(7, 7))(headModel)\n",
        "headModel = Flatten(name=\"flatten\")(headModel)\n",
        "headModel = Dense(128, activation=\"relu\")(headModel)\n",
        "headModel = Dropout(0.5)(headModel)\n",
        "headModel = Dense(2, activation=\"softmax\")(headModel)"
      ]
    },
    {
      "cell_type": "code",
      "execution_count": 40,
      "metadata": {
        "id": "xbw5-Pon7BI0"
      },
      "outputs": [],
      "source": [
        "# place the head FC model on top of the base model (this will become\n",
        "# the actual model we will train)\n",
        "model = Model(inputs=baseModel.input, outputs=headModel)\n",
        "\n",
        "# loop over all layers in the base model and freeze them so they will\n",
        "# *not* be updated during the first training process\n",
        "for layer in baseModel.layers:\n",
        "\tlayer.trainable = False"
      ]
    },
    {
      "cell_type": "code",
      "execution_count": 41,
      "metadata": {
        "colab": {
          "base_uri": "https://localhost:8080/"
        },
        "id": "Q8eRCXpb7BI1",
        "outputId": "b841a4f2-29f8-43b4-ff65-f940be90197f"
      },
      "outputs": [
        {
          "metadata": {
            "tags": null
          },
          "name": "stdout",
          "output_type": "stream",
          "text": [
            "[INFO] compiling model...\n",
            "[INFO] training head...\n"
          ]
        },
        {
          "metadata": {
            "tags": null
          },
          "name": "stderr",
          "output_type": "stream",
          "text": [
            "/usr/local/lib/python3.8/dist-packages/keras/optimizers/optimizer_v2/adam.py:110: UserWarning: The `lr` argument is deprecated, use `learning_rate` instead.\n",
            "  super(Adam, self).__init__(name, **kwargs)\n"
          ]
        },
        {
          "output_type": "stream",
          "name": "stdout",
          "text": [
            "Epoch 1/20\n",
            "95/95 [==============================] - 127s 1s/step - loss: 0.4080 - accuracy: 0.8461 - val_loss: 0.1593 - val_accuracy: 0.9778\n",
            "Epoch 2/20\n",
            "95/95 [==============================] - 119s 1s/step - loss: 0.1596 - accuracy: 0.9614 - val_loss: 0.0899 - val_accuracy: 0.9778\n",
            "Epoch 3/20\n",
            "95/95 [==============================] - 120s 1s/step - loss: 0.1050 - accuracy: 0.9730 - val_loss: 0.0667 - val_accuracy: 0.9831\n",
            "Epoch 4/20\n",
            "95/95 [==============================] - 120s 1s/step - loss: 0.0818 - accuracy: 0.9825 - val_loss: 0.0559 - val_accuracy: 0.9870\n",
            "Epoch 5/20\n",
            "95/95 [==============================] - 121s 1s/step - loss: 0.0686 - accuracy: 0.9806 - val_loss: 0.0513 - val_accuracy: 0.9857\n",
            "Epoch 6/20\n",
            "95/95 [==============================] - 119s 1s/step - loss: 0.0643 - accuracy: 0.9809 - val_loss: 0.0458 - val_accuracy: 0.9883\n",
            "Epoch 7/20\n",
            "95/95 [==============================] - 118s 1s/step - loss: 0.0586 - accuracy: 0.9832 - val_loss: 0.0473 - val_accuracy: 0.9844\n",
            "Epoch 8/20\n",
            "95/95 [==============================] - 119s 1s/step - loss: 0.0543 - accuracy: 0.9836 - val_loss: 0.0400 - val_accuracy: 0.9896\n",
            "Epoch 9/20\n",
            "95/95 [==============================] - 119s 1s/step - loss: 0.0493 - accuracy: 0.9875 - val_loss: 0.0398 - val_accuracy: 0.9883\n",
            "Epoch 10/20\n",
            "95/95 [==============================] - 122s 1s/step - loss: 0.0472 - accuracy: 0.9862 - val_loss: 0.0347 - val_accuracy: 0.9909\n",
            "Epoch 11/20\n",
            "95/95 [==============================] - 121s 1s/step - loss: 0.0470 - accuracy: 0.9838 - val_loss: 0.0374 - val_accuracy: 0.9896\n",
            "Epoch 12/20\n",
            "95/95 [==============================] - 119s 1s/step - loss: 0.0391 - accuracy: 0.9901 - val_loss: 0.0323 - val_accuracy: 0.9909\n",
            "Epoch 13/20\n",
            "95/95 [==============================] - 122s 1s/step - loss: 0.0355 - accuracy: 0.9904 - val_loss: 0.0375 - val_accuracy: 0.9883\n",
            "Epoch 14/20\n",
            "95/95 [==============================] - 119s 1s/step - loss: 0.0325 - accuracy: 0.9934 - val_loss: 0.0292 - val_accuracy: 0.9922\n",
            "Epoch 15/20\n",
            "95/95 [==============================] - 120s 1s/step - loss: 0.0368 - accuracy: 0.9895 - val_loss: 0.0297 - val_accuracy: 0.9922\n",
            "Epoch 16/20\n",
            "95/95 [==============================] - 119s 1s/step - loss: 0.0351 - accuracy: 0.9891 - val_loss: 0.0280 - val_accuracy: 0.9922\n",
            "Epoch 17/20\n",
            "95/95 [==============================] - 118s 1s/step - loss: 0.0346 - accuracy: 0.9911 - val_loss: 0.0289 - val_accuracy: 0.9909\n",
            "Epoch 18/20\n",
            "95/95 [==============================] - 120s 1s/step - loss: 0.0321 - accuracy: 0.9901 - val_loss: 0.0293 - val_accuracy: 0.9922\n",
            "Epoch 19/20\n",
            "95/95 [==============================] - 118s 1s/step - loss: 0.0248 - accuracy: 0.9914 - val_loss: 0.0301 - val_accuracy: 0.9909\n",
            "Epoch 20/20\n",
            "95/95 [==============================] - 120s 1s/step - loss: 0.0338 - accuracy: 0.9904 - val_loss: 0.0313 - val_accuracy: 0.9909\n"
          ]
        }
      ],
      "source": [
        "# compile our model\n",
        "print(\"[INFO] compiling model...\")\n",
        "opt = Adam(lr=INIT_LR, decay=INIT_LR / EPOCHS)\n",
        "model.compile(loss=\"binary_crossentropy\", optimizer=opt,\n",
        "\tmetrics=[\"accuracy\"])\n",
        "\n",
        "# train the head of the network\n",
        "print(\"[INFO] training head...\")\n",
        "H = model.fit(\n",
        "\taug.flow(trainX, trainY, batch_size=BS),\n",
        "\tsteps_per_epoch=len(trainX) // BS,\n",
        "\tvalidation_data=(testX, testY),\n",
        "\tvalidation_steps=len(testX) // BS,\n",
        "\tepochs=EPOCHS)"
      ]
    },
    {
      "cell_type": "code",
      "execution_count": 42,
      "metadata": {
        "colab": {
          "base_uri": "https://localhost:8080/"
        },
        "id": "x43ofP5v7BI1",
        "outputId": "2a2dd407-0eed-4a9b-a653-ef1d641e637c"
      },
      "outputs": [
        {
          "output_type": "stream",
          "name": "stdout",
          "text": [
            "[INFO] evaluating network...\n",
            "24/24 [==============================] - 20s 795ms/step\n",
            "              precision    recall  f1-score   support\n",
            "\n",
            "   with_mask       0.98      1.00      0.99       383\n",
            "without_mask       1.00      0.98      0.99       384\n",
            "\n",
            "    accuracy                           0.99       767\n",
            "   macro avg       0.99      0.99      0.99       767\n",
            "weighted avg       0.99      0.99      0.99       767\n",
            "\n",
            "[INFO] saving mask detector model...\n"
          ]
        }
      ],
      "source": [
        "# make predictions on the testing set\n",
        "print(\"[INFO] evaluating network...\")\n",
        "predIdxs = model.predict(testX, batch_size=BS)\n",
        "\n",
        "# for each image in the testing set we need to find the index of the\n",
        "# label with corresponding largest predicted probability\n",
        "predIdxs = np.argmax(predIdxs, axis=1)\n",
        "\n",
        "# show a nicely formatted classification report\n",
        "print(classification_report(testY.argmax(axis=1), predIdxs,\n",
        "\ttarget_names=lb.classes_))\n",
        "\n",
        "# serialize the model to disk\n",
        "print(\"[INFO] saving mask detector model...\")\n",
        "model.save(\"mask_detector.model\", save_format=\"h5\")"
      ]
    },
    {
      "cell_type": "code",
      "execution_count": 43,
      "metadata": {
        "id": "OiTwIff27BI1",
        "colab": {
          "base_uri": "https://localhost:8080/",
          "height": 299
        },
        "outputId": "7121c536-06c3-4509-b824-42fcf78269fe"
      },
      "outputs": [
        {
          "output_type": "display_data",
          "data": {
            "text/plain": [
              "<Figure size 432x288 with 1 Axes>"
            ],
            "image/png": "[encoded data removed]"
          },
          "metadata": {}
        }
      ],
      "source": [
        "# plot the training loss and accuracy\n",
        "N = EPOCHS\n",
        "plt.style.use(\"ggplot\")\n",
        "plt.figure()\n",
        "plt.plot(np.arange(0, N), H.history[\"loss\"], label=\"train_loss\")\n",
        "plt.plot(np.arange(0, N), H.history[\"val_loss\"], label=\"val_loss\")\n",
        "plt.plot(np.arange(0, N), H.history[\"accuracy\"], label=\"train_acc\")\n",
        "plt.plot(np.arange(0, N), H.history[\"val_accuracy\"], label=\"val_acc\")\n",
        "plt.title(\"Training Loss and Accuracy\")\n",
        "plt.xlabel(\"Epoch #\")\n",
        "plt.ylabel(\"Loss/Accuracy\")\n",
        "plt.legend(loc=\"lower left\")\n",
        "plt.savefig(\"plot.png\")"
      ]
    }
  ],
  "metadata": {
    "kernelspec": {
      "display_name": "Python 3",
      "language": "python",
      "name": "python3"
    },
    "language_info": {
      "codemirror_mode": {
        "name": "ipython",
        "version": 3
      },
      "file_extension": ".py",
      "mimetype": "text/x-python",
      "name": "python",
      "nbconvert_exporter": "python",
      "pygments_lexer": "ipython3",
      "version": "3.9.13"
    },
    "colab": {
      "provenance": [],
      "include_colab_link": true
    }
  },
  "nbformat": 4,
  "nbformat_minor": 0
}